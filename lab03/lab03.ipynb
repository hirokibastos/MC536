{
 "cells": [
  {
   "cell_type": "markdown",
   "id": "80d78bd1",
   "metadata": {},
   "source": [
    "# Tarefa 1\n",
    "\n",
    "## demographic-person.csv\n",
    "\n",
    "* person(_id_, gender, age)\n",
    "\n",
    "## medications-drug.csv\n",
    "\n",
    "* medications(_code_, name)\n",
    "\n",
    "## medications-use.csv\n",
    "\n",
    "* medications_use(_person_id_, _drug_code_, days_use)\n",
    "* CHE: person_id de person.id\n",
    "* CHE: drug_code de medications.code"
   ]
  },
  {
   "cell_type": "markdown",
   "id": "f17a030f",
   "metadata": {},
   "source": [
    "# Tarefa 2"
   ]
  },
  {
   "cell_type": "code",
   "execution_count": 1,
   "id": "1b9d79e7",
   "metadata": {},
   "outputs": [],
   "source": [
    "%defaultDatasource jdbc:h2:mem:db"
   ]
  },
  {
   "cell_type": "code",
   "execution_count": 2,
   "id": "379abb12",
   "metadata": {},
   "outputs": [],
   "source": [
    "DROP TABLE IF EXISTS PESSOA;\n",
    "DROP TABLE IF EXISTS MEDICAMENTO;\n",
    "DROP TABLE IF EXISTS USO_MEDICAMENTO;\n",
    "\n",
    "CREATE TABLE Pessoa (\n",
    "  Id VARCHAR(5) NOT NULL,\n",
    "  Gender INTEGER,\n",
    "  Age INTEGER,\n",
    "  PRIMARY KEY(Id)\n",
    ") AS SELECT\n",
    "    id,\n",
    "    gender,\n",
    "    age\n",
    "FROM CSVREAD('../../../data/nhanes/demographic-person.csv');\n",
    "\n",
    "CREATE TABLE MEDICAMENTO(\n",
    "    CODIGO VARCHAR(6) NOT NULL,\n",
    "    NOME VARCHAR(60),\n",
    "    PRIMARY KEY (CODIGO)\n",
    ") AS SELECT\n",
    "    code,\n",
    "    name\n",
    "FROM CSVREAD('../../../data/nhanes/medications-drug.csv');\n",
    "\n",
    "CREATE TABLE USO_MEDICAMENTO(\n",
    "    ID_PESSOA VARCHAR(5) NOT NULL,\n",
    "    CODIGO_MEDICAMENTO VARCHAR(6) NOT NULL,\n",
    "    DIAS_USO INT,\n",
    "    FOREIGN KEY (ID_PESSOA)\n",
    "        REFERENCES PESSOA(ID)\n",
    "            ON DELETE NO ACTION\n",
    "            ON UPDATE NO ACTION,\n",
    "    FOREIGN KEY (CODIGO_MEDICAMENTO)\n",
    "        REFERENCES MEDICAMENTO(CODIGO)\n",
    "            ON DELETE NO ACTION\n",
    "            ON UPDATE NO ACTION\n",
    ") AS SELECT\n",
    "    person_id,\n",
    "    drug_code,\n",
    "    days_use\n",
    "    FROM CSVREAD('../../../data/nhanes/medications-use.csv');"
   ]
  },
  {
   "cell_type": "code",
   "execution_count": 3,
   "id": "308d7e1e",
   "metadata": {
    "scrolled": true
   },
   "outputs": [
    {
     "data": {
      "application/vnd.jupyter.widget-view+json": {
       "model_id": "669e27ef-950d-467f-a3f5-7d50abf4c3b2",
       "version_major": 2,
       "version_minor": 0
      },
      "method": "display_data"
     },
     "metadata": {},
     "output_type": "display_data"
    }
   ],
   "source": [
    "SELECT * FROM PESSOA\n",
    "    WHERE AGE > 60"
   ]
  },
  {
   "cell_type": "code",
   "execution_count": 20,
   "id": "40ed1d6b",
   "metadata": {},
   "outputs": [
    {
     "data": {
      "application/vnd.jupyter.widget-view+json": {
       "model_id": "03861647-8891-44c7-a138-d1b1ee03e2ad",
       "version_major": 2,
       "version_minor": 0
      },
      "method": "display_data"
     },
     "metadata": {},
     "output_type": "display_data"
    }
   ],
   "source": [
    "SELECT DISTINCT AGE FROM PESSOA;"
   ]
  },
  {
   "cell_type": "code",
   "execution_count": null,
   "id": "2027aa8e",
   "metadata": {},
   "outputs": [],
   "source": [
    "SELECT U.ID_PESSOA, P.AGE, U.CODIGO_MEDICAMENTO, U.DIAS_USO\n",
    "    FROM USO_MEDICAMENTO U, PESSOA P\n",
    "    WHERE U.ID_PESSOA = P.ID"
   ]
  },
  {
   "cell_type": "code",
   "execution_count": 4,
   "id": "dc2e2165",
   "metadata": {},
   "outputs": [
    {
     "data": {
      "application/vnd.jupyter.widget-view+json": {
       "model_id": "eb7e1139-6309-45f6-a89a-bb50c22c202e",
       "version_major": 2,
       "version_minor": 0
      },
      "method": "display_data"
     },
     "metadata": {},
     "output_type": "display_data"
    }
   ],
   "source": [
    "SELECT U.ID_PESSOA, P.AGE, M.NOME, U.DIAS_USO\n",
    "    FROM USO_MEDICAMENTO U, PESSOA P, MEDICAMENTO M\n",
    "    WHERE U.ID_PESSOA = P.ID AND U.CODIGO_MEDICAMENTO = M.CODIGO\n",
    "    "
   ]
  },
  {
   "cell_type": "code",
   "execution_count": 5,
   "id": "55dd62a3",
   "metadata": {},
   "outputs": [
    {
     "data": {
      "application/vnd.jupyter.widget-view+json": {
       "model_id": "cdb1ab7a-563f-4428-8cef-457389625f76",
       "version_major": 2,
       "version_minor": 0
      },
      "method": "display_data"
     },
     "metadata": {},
     "output_type": "display_data"
    }
   ],
   "source": [
    "SELECT DISTINCT M.NOME\n",
    "    FROM MEDICAMENTO M, USO_MEDICAMENTO U\n",
    "    WHERE M.CODIGO = U.CODIGO_MEDICAMENTO;"
   ]
  },
  {
   "cell_type": "code",
   "execution_count": 34,
   "id": "dbfcb193",
   "metadata": {},
   "outputs": [
    {
     "data": {
      "application/vnd.jupyter.widget-view+json": {
       "model_id": "421ff103-fa74-4259-a904-ea402d4345ef",
       "version_major": 2,
       "version_minor": 0
      },
      "method": "display_data"
     },
     "metadata": {},
     "output_type": "display_data"
    }
   ],
   "source": [
    "SELECT M.NOME, SUM(U.DIAS_USO) DIAS\n",
    "    FROM MEDICAMENTO M, USO_MEDICAMENTO U\n",
    "    WHERE M.CODIGO = U.CODIGO_MEDICAMENTO\n",
    "    GROUP BY U.CODIGO_MEDICAMENTO\n",
    "    HAVING DIAS > 2000;"
   ]
  }
 ],
 "metadata": {
  "kernelspec": {
   "display_name": "SQL",
   "language": "SQL",
   "name": "sql"
  },
  "language_info": {
   "codemirror_mode": "sql",
   "file_extension": ".sql",
   "mimetype": "",
   "name": "SQL",
   "nbconverter_exporter": "",
   "version": ""
  },
  "toc": {
   "base_numbering": 1,
   "nav_menu": {},
   "number_sections": false,
   "sideBar": false,
   "skip_h1_title": false,
   "title_cell": "Table of Contents",
   "title_sidebar": "Contents",
   "toc_cell": false,
   "toc_position": {},
   "toc_section_display": false,
   "toc_window_display": false
  }
 },
 "nbformat": 4,
 "nbformat_minor": 5
}
