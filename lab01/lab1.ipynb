{
 "cells": [
  {
   "cell_type": "markdown",
   "metadata": {},
   "source": [
    "\n",
    "\n",
    "\n",
    "### Fonte 1: Comércio de carne do brasil em 2020\n",
    "\n",
    "* A organização ComTrade da ONU fornece uma api com todo o comércio internacional de commodities e serviços.\n",
    "* No nosso caso estamos checando todo o comércio (importação e exportação) de carne do Brasil no ano de 2020.\n"
   ]
  },
  {
   "cell_type": "code",
   "execution_count": null,
   "metadata": {},
   "outputs": [],
   "source": [
    "import pandas as pd\n",
    "import requests\n",
    "import io\n",
    "\n",
    "url = \"https://comtrade.un.org/api/get?type=C&freq=A&r=76&px=HS&cc=16&ps=2020&fmt=csv\"\n",
    "data = requests.get(url).content\n",
    "csv = pd.read_csv(io.StringIO(data.decode(\"utf-8\")))\n",
    "print(csv)"
   ]
  },
  {
   "cell_type": "markdown",
   "metadata": {},
   "source": [
    "### Fonte 2: Notícias sobre ciência no Brasil\n",
    "\n",
    "* O site TheNewsAPI fornece uma API de notícias do mundo inteiro. No nosso caso estão sendo requisitadas as noticias sobre cientecias do dia 25/08/2021.\n",
    "* Um token é necessário para acessar a API e pode ser gerado em https://www.thenewsapi.com/\n",
    "* Infelizmente, na sua forma gratuita, a API fornece apenas 5 artigos por query."
   ]
  },
  {
   "cell_type": "code",
   "execution_count": 21,
   "metadata": {},
   "outputs": [
    {
     "name": "stdout",
     "output_type": "stream",
     "text": [
      "{\"meta\":{\"found\":114,\"returned\":5,\"limit\":5,\"page\":1},\"data\":[{\"uuid\":\"1afc7949-ff83-4ded-9851-0f197398aecb\",\"title\":\"Em Recife, oito entre dez casos de sífilis congênita não são notificados\",\"description\":\"A subnotificação de casos de sífilis congênita em bebês e crianças chega a 80,9% na capital pernambucana, o que compromete o conhecimento real da magnitud...\",\"keywords\":\"\",\"snippet\":\"A subnotificação de casos de sífilis congênita em bebês e crianças chega a 80,9% na capital pernambucana, o que compromete o conhecimento real da magnitud...\",\"url\":\"https:\\/\\/www.uol.com.br\\/vivabem\\/noticias\\/redacao\\/2021\\/08\\/25\\/em-recife-oito-entre-dez-casos-de-sifilis-congenita-nao-sao-notificados.htm\",\"image_url\":\"https:\\/\\/conteudo.imguol.com.br\\/c\\/entretenimento\\/46\\/2021\\/02\\/27\\/bebe-recem-nascido-1614441549694_v2_615x300.jpg\",\"language\":\"pt\",\"published_at\":\"2021-08-25T23:53:13.000000Z\",\"source\":\"uol.com.br\",\"categories\":[\"tech\",\"science\"],\"relevance_score\":null},{\"uuid\":\"5b5abb4c-4333-42c1-a782-ebd2b1a4fe72\",\"title\":\"Empresas adotam semana curta de trabalho sem baixar salário e produtividade\",\"description\":\"Semanas com quatro dias, sextas-feiras com expediente reduzido e folgas programadas são estratégias das empresas para flexibilizar a rotina dos colaboradores.\",\"keywords\":\"\",\"snippet\":\"Entre 2015 e 2019, a câmara municipal de Reykjavik, capital da Islândia, testou uma iniciativa considerada impensável no mercado de trabalho até alguns anos...\",\"url\":\"https:\\/\\/economia.uol.com.br\\/noticias\\/redacao\\/2021\\/08\\/25\\/empresas-adotam-semana-curta-de-trabalho-sem-baixar-salario-e-produtividade.htm\",\"image_url\":\"https:\\/\\/conteudo.imguol.com.br\\/c\\/noticias\\/e9\\/2021\\/08\\/24\\/semana-curta-1629835817527_v2_615x300.jpg\",\"language\":\"pt\",\"published_at\":\"2021-08-25T23:53:13.000000Z\",\"source\":\"uol.com.br\",\"categories\":[\"tech\",\"science\"],\"relevance_score\":null},{\"uuid\":\"1009b6ff-a9cf-4612-a143-7709e82ac2f7\",\"title\":\"Umidade do ar abaixo de 12% põe cidades de SP em estado de emergência\",\"description\":\"Previsão é de que qualidade do ar melhore a partir da noite de amanhã, com chegada de frente fria ao estado\",\"keywords\":\"\",\"snippet\":\"O baixo nível da umidade relativa do ar voltou a alarmar cidades de São Paulo em mais um dia quente e seco na região, com previsão de recorde de calor até ...\",\"url\":\"https:\\/\\/noticias.uol.com.br\\/cotidiano\\/ultimas-noticias\\/2021\\/08\\/25\\/umidade-do-ar-fica-abaixo-dos-12-no-interior-de-sp.htm\",\"image_url\":\"https:\\/\\/conteudo.imguol.com.br\\/c\\/parceiros\\/c8\\/2021\\/07\\/23\\/iptu-novo-vai-trazer-r-62-milhoes-a-mais-para-o-caixa-da-prefeitura-de-campinas-1627066093070_v2_615x300.jpg\",\"language\":\"pt\",\"published_at\":\"2021-08-25T23:31:59.000000Z\",\"source\":\"uol.com.br\",\"categories\":[\"tech\",\"science\"],\"relevance_score\":null},{\"uuid\":\"e1fe0e92-6f91-42d4-9670-3129aa096887\",\"title\":\"Em carta, Federações pedem a Caboclo que renuncie à presidência da CBF\",\"description\":\"As 27 federações estaduais enviaram hoje (25) uma carta a Rogério Caboclo pedindo que o dirigente afastado da CBF renuncie ao cargo de presidente da entidade...\",\"keywords\":\"\",\"snippet\":\"Classificação e Jogos Brasileirão\\n\\nAs 27 federações estaduais enviaram hoje (25) uma carta a Rogério Caboclo pedindo que o dirigente afastado da CBF renun...\",\"url\":\"https:\\/\\/www.uol.com.br\\/esporte\\/futebol\\/ultimas-noticias\\/2021\\/08\\/25\\/em-carta-federacoes-pedem-a-caboclo-que-ele-renuncie-a-presidencia-da-cbf.htm\",\"image_url\":\"https:\\/\\/conteudo.imguol.com.br\\/c\\/esporte\\/33\\/2021\\/06\\/04\\/rogerio-caboclo-presidente-da-cbf-1622837000886_v2_615x300.jpg\",\"language\":\"pt\",\"published_at\":\"2021-08-25T23:31:59.000000Z\",\"source\":\"uol.com.br\",\"categories\":[\"tech\",\"science\"],\"relevance_score\":null},{\"uuid\":\"71fcca83-b7db-42a0-baaa-a6f4992b4185\",\"title\":\"Zé Neto revela ter vida sexual quente com a mulher: 'Todo dia e toda noite'\",\"description\":\"Após viralizar devido ao tamanho de sua genitália, o cantor Zé Neto declarou que a vida sexual com a esposa é bem agitada.\",\"keywords\":\"\",\"snippet\":\"Um dia após voltar a viralizar nas redes sociais pelo volume de sua genitália, o cantor Zé Neto, de 31 anos, revelou que a vida amorosa com a mulher, Natáli...\",\"url\":\"https:\\/\\/www.uol.com.br\\/splash\\/noticias\\/2021\\/08\\/25\\/ze-neto-revela-ter-vida-sexual-quente-com-a-mulher-todo-dia-e-toda-noite.htm\",\"image_url\":\"https:\\/\\/conteudo.imguol.com.br\\/c\\/entretenimento\\/3d\\/2021\\/08\\/25\\/natalia-toscano-e-ze-neto-curtem-viagem-para-em-cancun-1629929474341_v2_615x300.jpg\",\"language\":\"pt\",\"published_at\":\"2021-08-25T23:31:16.000000Z\",\"source\":\"uol.com.br\",\"categories\":[\"tech\",\"science\"],\"relevance_score\":null}]}\n"
     ]
    }
   ],
   "source": [
    "import requests\n",
    "import io\n",
    "import json\n",
    "\n",
    "url = \"https://api.thenewsapi.com/v1/news/all?api_token=1sDBQ1kucL1DmxQGJl4tTqr84EFyoVvNB9RTtP9I&categories=science&language=pt&published_on=2021-08-25\"\n",
    "js = requests.get(url).content\n",
    "print(js.decode(\"utf-8\"))"
   ]
  },
  {
   "cell_type": "code",
   "execution_count": null,
   "metadata": {},
   "outputs": [],
   "source": []
  }
 ],
 "metadata": {
  "kernelspec": {
   "display_name": "Python 3.8.8 64-bit ('base': conda)",
   "name": "python388jvsc74a57bd0a79931b89fdf396729a883a5d7875fe8ee261b518c622210c1b83d0742cb31e8"
  },
  "language_info": {
   "codemirror_mode": {
    "name": "ipython",
    "version": 3
   },
   "file_extension": ".py",
   "mimetype": "text/x-python",
   "name": "python",
   "nbconvert_exporter": "python",
   "pygments_lexer": "ipython3",
   "version": "3.8.8"
  },
  "metadata": {
   "interpreter": {
    "hash": "916dbcbb3f70747c44a77c7bcd40155683ae19c65e1c03b4aa3499c5328201f1"
   }
  },
  "orig_nbformat": 2
 },
 "nbformat": 4,
 "nbformat_minor": 2
}